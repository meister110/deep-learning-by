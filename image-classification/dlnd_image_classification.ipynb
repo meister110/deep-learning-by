{
 "cells": [
  {
   "cell_type": "markdown",
   "metadata": {
    "collapsed": true
   },
   "source": [
    "# Image Classification\n",
    "In this project, you'll classify images from the [CIFAR-10 dataset](https://www.cs.toronto.edu/~kriz/cifar.html).  The dataset consists of airplanes, dogs, cats, and other objects. You'll preprocess the images, then train a convolutional neural network on all the samples. The images need to be normalized and the labels need to be one-hot encoded.  You'll get to apply what you learned and build a convolutional, max pooling, dropout, and fully connected layers.  At the end, you'll get to see your neural network's predictions on the sample images.\n",
    "## Get the Data\n",
    "Run the following cell to download the [CIFAR-10 dataset for python](https://www.cs.toronto.edu/~kriz/cifar-10-python.tar.gz)."
   ]
  },
  {
   "cell_type": "code",
   "execution_count": 1,
   "metadata": {},
   "outputs": [
    {
     "name": "stdout",
     "output_type": "stream",
     "text": [
      "All files found!\n"
     ]
    }
   ],
   "source": [
    "\"\"\"\n",
    "DON'T MODIFY ANYTHING IN THIS CELL THAT IS BELOW THIS LINE\n",
    "\"\"\"\n",
    "from urllib.request import urlretrieve\n",
    "from os.path import isfile, isdir\n",
    "from tqdm import tqdm\n",
    "import problem_unittests as tests\n",
    "import tarfile\n",
    "\n",
    "cifar10_dataset_folder_path = 'cifar-10-batches-py'\n",
    "\n",
    "# Use Floyd's cifar-10 dataset if present\n",
    "floyd_cifar10_location = '/input/cifar-10/python.tar.gz'\n",
    "if isfile(floyd_cifar10_location):\n",
    "    tar_gz_path = floyd_cifar10_location\n",
    "else:\n",
    "    tar_gz_path = 'cifar-10-python.tar.gz'\n",
    "\n",
    "class DLProgress(tqdm):\n",
    "    last_block = 0\n",
    "\n",
    "    def hook(self, block_num=1, block_size=1, total_size=None):\n",
    "        self.total = total_size\n",
    "        self.update((block_num - self.last_block) * block_size)\n",
    "        self.last_block = block_num\n",
    "\n",
    "if not isfile(tar_gz_path):\n",
    "    with DLProgress(unit='B', unit_scale=True, miniters=1, desc='CIFAR-10 Dataset') as pbar:\n",
    "        urlretrieve(\n",
    "            'https://www.cs.toronto.edu/~kriz/cifar-10-python.tar.gz',\n",
    "            tar_gz_path,\n",
    "            pbar.hook)\n",
    "\n",
    "if not isdir(cifar10_dataset_folder_path):\n",
    "    with tarfile.open(tar_gz_path) as tar:\n",
    "        tar.extractall()\n",
    "        tar.close()\n",
    "\n",
    "\n",
    "tests.test_folder_path(cifar10_dataset_folder_path)"
   ]
  },
  {
   "cell_type": "markdown",
   "metadata": {},
   "source": [
    "## Explore the Data\n",
    "The dataset is broken into batches to prevent your machine from running out of memory.  The CIFAR-10 dataset consists of 5 batches, named `data_batch_1`, `data_batch_2`, etc.. Each batch contains the labels and images that are one of the following:\n",
    "* airplane\n",
    "* automobile\n",
    "* bird\n",
    "* cat\n",
    "* deer\n",
    "* dog\n",
    "* frog\n",
    "* horse\n",
    "* ship\n",
    "* truck\n",
    "\n",
    "Understanding a dataset is part of making predictions on the data.  Play around with the code cell below by changing the `batch_id` and `sample_id`. The `batch_id` is the id for a batch (1-5). The `sample_id` is the id for a image and label pair in the batch.\n",
    "\n",
    "Ask yourself \"What are all possible labels?\", \"What is the range of values for the image data?\", \"Are the labels in order or random?\".  Answers to questions like these will help you preprocess the data and end up with better predictions."
   ]
  },
  {
   "cell_type": "code",
   "execution_count": 2,
   "metadata": {},
   "outputs": [
    {
     "name": "stdout",
     "output_type": "stream",
     "text": [
      "\n",
      "Stats of batch 1:\n",
      "Samples: 10000\n",
      "Label Counts: {0: 1005, 1: 974, 2: 1032, 3: 1016, 4: 999, 5: 937, 6: 1030, 7: 1001, 8: 1025, 9: 981}\n",
      "First 20 Labels: [6, 9, 9, 4, 1, 1, 2, 7, 8, 3, 4, 7, 7, 2, 9, 9, 9, 3, 2, 6]\n",
      "\n",
      "Example of Image 5:\n",
      "Image - Min Value: 0 Max Value: 252\n",
      "Image - Shape: (32, 32, 3)\n",
      "Label - Label Id: 1 Name: automobile\n"
     ]
    },
    {
     "data": {
      "image/png": "[encoded data removed]",
      "text/plain": [
       "<matplotlib.figure.Figure at 0x7fb740e3d550>"
      ]
     },
     "metadata": {
      "image/png": {
       "height": 250,
       "width": 253
      }
     },
     "output_type": "display_data"
    }
   ],
   "source": [
    "%matplotlib inline\n",
    "%config InlineBackend.figure_format = 'retina'\n",
    "\n",
    "import helper\n",
    "import numpy as np\n",
    "\n",
    "# Explore the dataset\n",
    "batch_id = 1\n",
    "sample_id = 5\n",
    "helper.display_stats(cifar10_dataset_folder_path, batch_id, sample_id)"
   ]
  },
  {
   "cell_type": "markdown",
   "metadata": {},
   "source": [
    "## Implement Preprocess Functions\n",
    "### Normalize\n",
    "In the cell below, implement the `normalize` function to take in image data, `x`, and return it as a normalized Numpy array. The values should be in the range of 0 to 1, inclusive.  The return object should be the same shape as `x`."
   ]
  },
  {
   "cell_type": "code",
   "execution_count": 3,
   "metadata": {},
   "outputs": [
    {
     "name": "stdout",
     "output_type": "stream",
     "text": [
      "Tests Passed\n"
     ]
    }
   ],
   "source": [
    "def normalize(x):\n",
    "    \"\"\"\n",
    "    Normalize a list of sample image data in the range of 0 to 1\n",
    "    : x: List of image data.  The image shape is (32, 32, 3)\n",
    "    : return: Numpy array of normalize data\n",
    "    \"\"\"\n",
    "    # TODO: Implement Function\n",
    "    return np.asarray(x/255,dtype=np.float32)\n",
    "\n",
    "\n",
    "\"\"\"\n",
    "DON'T MODIFY ANYTHING IN THIS CELL THAT IS BELOW THIS LINE\n",
    "\"\"\"\n",
    "tests.test_normalize(normalize)"
   ]
  },
  {
   "cell_type": "markdown",
   "metadata": {},
   "source": [
    "### One-hot encode\n",
    "Just like the previous code cell, you'll be implementing a function for preprocessing.  This time, you'll implement the `one_hot_encode` function. The input, `x`, are a list of labels.  Implement the function to return the list of labels as One-Hot encoded Numpy array.  The possible values for labels are 0 to 9. The one-hot encoding function should return the same encoding for each value between each call to `one_hot_encode`.  Make sure to save the map of encodings outside the function.\n",
    "\n",
    "Hint: Don't reinvent the wheel."
   ]
  },
  {
   "cell_type": "code",
   "execution_count": 5,
   "metadata": {},
   "outputs": [
    {
     "name": "stdout",
     "output_type": "stream",
     "text": [
      "Tests Passed\n"
     ]
    }
   ],
   "source": [
    "def one_hot_encode(x):\n",
    "    \"\"\"\n",
    "    One hot encode a list of sample labels. Return a one-hot encoded vector for each label.\n",
    "    : x: List of sample Labels\n",
    "    : return: Numpy array of one-hot encoded labels\n",
    "    \"\"\"\n",
    "    # TODO: Implement Function\n",
    "    one_hot = np.zeros((np.shape(x)[0], 10))\n",
    "    one_hot[np.arange(np.shape(x)[0]), x] = 1\n",
    "    return one_hot\n",
    "\n",
    "\n",
    "\"\"\"\n",
    "DON'T MODIFY ANYTHING IN THIS CELL THAT IS BELOW THIS LINE\n",
    "\"\"\"\n",
    "tests.test_one_hot_encode(one_hot_encode)"
   ]
  },
  {
   "cell_type": "markdown",
   "metadata": {},
   "source": [
    "### Randomize Data\n",
    "As you saw from exploring the data above, the order of the samples are randomized.  It doesn't hurt to randomize it again, but you don't need to for this dataset."
   ]
  },
  {
   "cell_type": "markdown",
   "metadata": {},
   "source": [
    "## Preprocess all the data and save it\n",
    "Running the code cell below will preprocess all the CIFAR-10 data and save it to file. The code below also uses 10% of the training data for validation."
   ]
  },
  {
   "cell_type": "code",
   "execution_count": 7,
   "metadata": {
    "collapsed": true
   },
   "outputs": [],
   "source": [
    "\"\"\"\n",
    "DON'T MODIFY ANYTHING IN THIS CELL\n",
    "\"\"\"\n",
    "# Preprocess Training, Validation, and Testing Data\n",
    "helper.preprocess_and_save_data(cifar10_dataset_folder_path, normalize, one_hot_encode)"
   ]
  },
  {
   "cell_type": "markdown",
   "metadata": {},
   "source": [
    "# Check Point\n",
    "This is your first checkpoint.  If you ever decide to come back to this notebook or have to restart the notebook, you can start from here.  The preprocessed data has been saved to disk."
   ]
  },
  {
   "cell_type": "code",
   "execution_count": 8,
   "metadata": {},
   "outputs": [],
   "source": [
    "\"\"\"\n",
    "DON'T MODIFY ANYTHING IN THIS CELL\n",
    "\"\"\"\n",
    "import pickle\n",
    "import problem_unittests as tests\n",
    "import helper\n",
    "\n",
    "# Load the Preprocessed Validation data\n",
    "valid_features, valid_labels = pickle.load(open('preprocess_validation.p', mode='rb'))"
   ]
  },
  {
   "cell_type": "markdown",
   "metadata": {},
   "source": [
    "## Build the network\n",
    "For the neural network, you'll build each layer into a function.  Most of the code you've seen has been outside of functions. To test your code more thoroughly, we require that you put each layer in a function.  This allows us to give you better feedback and test for simple mistakes using our unittests before you submit your project.\n",
    "\n",
    ">**Note:** If you're finding it hard to dedicate enough time for this course each week, we've provided a small shortcut to this part of the project. In the next couple of problems, you'll have the option to use classes from the [TensorFlow Layers](https://www.tensorflow.org/api_docs/python/tf/layers) or [TensorFlow Layers (contrib)](https://www.tensorflow.org/api_guides/python/contrib.layers) packages to build each layer, except the layers you build in the \"Convolutional and Max Pooling Layer\" section.  TF Layers is similar to Keras's and TFLearn's abstraction to layers, so it's easy to pickup.\n",
    "\n",
    ">However, if you would like to get the most out of this course, try to solve all the problems _without_ using anything from the TF Layers packages. You **can** still use classes from other packages that happen to have the same name as ones you find in TF Layers! For example, instead of using the TF Layers version of the `conv2d` class, [tf.layers.conv2d](https://www.tensorflow.org/api_docs/python/tf/layers/conv2d), you would want to use the TF Neural Network version of `conv2d`, [tf.nn.conv2d](https://www.tensorflow.org/api_docs/python/tf/nn/conv2d). \n",
    "\n",
    "Let's begin!\n",
    "\n",
    "### Input\n",
    "The neural network needs to read the image data, one-hot encoded labels, and dropout keep probability. Implement the following functions\n",
    "* Implement `neural_net_image_input`\n",
    " * Return a [TF Placeholder](https://www.tensorflow.org/api_docs/python/tf/placeholder)\n",
    " * Set the shape using `image_shape` with batch size set to `None`.\n",
    " * Name the TensorFlow placeholder \"x\" using the TensorFlow `name` parameter in the [TF Placeholder](https://www.tensorflow.org/api_docs/python/tf/placeholder).\n",
    "* Implement `neural_net_label_input`\n",
    " * Return a [TF Placeholder](https://www.tensorflow.org/api_docs/python/tf/placeholder)\n",
    " * Set the shape using `n_classes` with batch size set to `None`.\n",
    " * Name the TensorFlow placeholder \"y\" using the TensorFlow `name` parameter in the [TF Placeholder](https://www.tensorflow.org/api_docs/python/tf/placeholder).\n",
    "* Implement `neural_net_keep_prob_input`\n",
    " * Return a [TF Placeholder](https://www.tensorflow.org/api_docs/python/tf/placeholder) for dropout keep probability.\n",
    " * Name the TensorFlow placeholder \"keep_prob\" using the TensorFlow `name` parameter in the [TF Placeholder](https://www.tensorflow.org/api_docs/python/tf/placeholder).\n",
    "\n",
    "These names will be used at the end of the project to load your saved model.\n",
    "\n",
    "Note: `None` for shapes in TensorFlow allow for a dynamic size."
   ]
  },
  {
   "cell_type": "code",
   "execution_count": 10,
   "metadata": {},
   "outputs": [
    {
     "name": "stdout",
     "output_type": "stream",
     "text": [
      "Image Input Tests Passed.\n",
      "Label Input Tests Passed.\n",
      "Tensor(\"keep_prob:0\", dtype=float32)\n",
      "Keep Prob Tests Passed.\n"
     ]
    }
   ],
   "source": [
    "import tensorflow as tf\n",
    "\n",
    "def neural_net_image_input(image_shape):\n",
    "    \"\"\"\n",
    "    Return a Tensor for a bach of image input\n",
    "    : image_shape: Shape of the images\n",
    "    : return: Tensor for image input.\n",
    "    \"\"\"\n",
    "    # TODO: Implement Function\n",
    "    shape = (None,) + image_shape\n",
    "    x = tf.placeholder(tf.float32, shape, name='x')\n",
    "    return x\n",
    "\n",
    "\n",
    "def neural_net_label_input(n_classes):\n",
    "    \"\"\"\n",
    "    Return a Tensor for a batch of label input\n",
    "    : n_classes: Number of classes\n",
    "    : return: Tensor for label input.\n",
    "    \"\"\"\n",
    "    # TODO: Implement Function\n",
    "    y = tf.placeholder(tf.int32, (None, n_classes), name='y')\n",
    "    return y\n",
    "\n",
    "\n",
    "def neural_net_keep_prob_input():\n",
    "    \"\"\"\n",
    "    Return a Tensor for keep probability\n",
    "    : return: Tensor for keep probability.\n",
    "    \"\"\"\n",
    "    # TODO: Implement Function\n",
    "    keep_prob = tf.placeholder(tf.float32, name='keep_prob')\n",
    "    print(keep_prob)\n",
    "    return keep_prob\n",
    "\n",
    "\n",
    "\"\"\"\n",
    "DON'T MODIFY ANYTHING IN THIS CELL THAT IS BELOW THIS LINE\n",
    "\"\"\"\n",
    "tf.reset_default_graph()\n",
    "tests.test_nn_image_inputs(neural_net_image_input)\n",
    "tests.test_nn_label_inputs(neural_net_label_input)\n",
    "tests.test_nn_keep_prob_inputs(neural_net_keep_prob_input)"
   ]
  },
  {
   "cell_type": "markdown",
   "metadata": {},
   "source": [
    "### Convolution and Max Pooling Layer\n",
    "Convolution layers have a lot of success with images. For this code cell, you should implement the function `conv2d_maxpool` to apply convolution then max pooling:\n",
    "* Create the weight and bias using `conv_ksize`, `conv_num_outputs` and the shape of `x_tensor`.\n",
    "* Apply a convolution to `x_tensor` using weight and `conv_strides`.\n",
    " * We recommend you use same padding, but you're welcome to use any padding.\n",
    "* Add bias\n",
    "* Add a nonlinear activation to the convolution.\n",
    "* Apply Max Pooling using `pool_ksize` and `pool_strides`.\n",
    " * We recommend you use same padding, but you're welcome to use any padding.\n",
    "\n",
    "**Note:** You **can't** use [TensorFlow Layers](https://www.tensorflow.org/api_docs/python/tf/layers) or [TensorFlow Layers (contrib)](https://www.tensorflow.org/api_guides/python/contrib.layers) for **this** layer, but you can still use TensorFlow's [Neural Network](https://www.tensorflow.org/api_docs/python/tf/nn) package. You may still use the shortcut option for all the **other** layers."
   ]
  },
  {
   "cell_type": "code",
   "execution_count": 14,
   "metadata": {},
   "outputs": [
    {
     "name": "stdout",
     "output_type": "stream",
     "text": [
      "5\n",
      "10\n",
      "[2, 2, 5, 10]\n",
      "Tests Passed\n"
     ]
    }
   ],
   "source": [
    "def conv2d_maxpool(x_tensor, conv_num_outputs, conv_ksize, conv_strides, pool_ksize, pool_strides):\n",
    "    \"\"\"\n",
    "    Apply convolution then max pooling to x_tensor\n",
    "    :param x_tensor: TensorFlow Tensor\n",
    "    :param conv_num_outputs: Number of outputs for the convolutional layer\n",
    "    :param conv_ksize: kernal size 2-D Tuple for the convolutional layer\n",
    "    :param conv_strides: Stride 2-D Tuple for convolution\n",
    "    :param pool_ksize: kernal size 2-D Tuple for pool\n",
    "    :param pool_strides: Stride 2-D Tuple for pool\n",
    "    : return: A tensor that represents convolution and max pooling of x_tensor\n",
    "    \"\"\"\n",
    "    # TODO: Implement Function\n",
    "    \n",
    "    mean = 0\n",
    "    mu = 0.1\n",
    "    input_count = x_tensor.get_shape().as_list()[3]\n",
    "    print(input_count)\n",
    "    print(conv_num_outputs)\n",
    "    shape = [conv_ksize[0], conv_ksize[1], input_count, conv_num_outputs]\n",
    "    print(shape)\n",
    "    w = tf.Variable(tf.truncated_normal(shape, mean=mean, stddev=mu), name='W')\n",
    "    b = tf.Variable(tf.constant(0.1, shape=[conv_num_outputs]), name='B')\n",
    "    x_tensor = tf.nn.conv2d(x_tensor, w, strides=[1, conv_strides[0], conv_strides[1], 1], padding='SAME')\n",
    "    x_tensor = tf.nn.bias_add(x_tensor, b)\n",
    "    x_tensor = tf.nn.relu(x_tensor)\n",
    "    x_tensor = tf.nn.max_pool(\n",
    "        x_tensor,\n",
    "        ksize=[1, pool_ksize[0], pool_ksize[1], 1],\n",
    "        strides=[1, pool_strides[0], pool_strides[1], 1],\n",
    "        padding='SAME')\n",
    "    \n",
    "    return x_tensor \n",
    "\n",
    "\n",
    "\"\"\"\n",
    "DON'T MODIFY ANYTHING IN THIS CELL THAT IS BELOW THIS LINE\n",
    "\"\"\"\n",
    "tests.test_con_pool(conv2d_maxpool)"
   ]
  },
  {
   "cell_type": "markdown",
   "metadata": {},
   "source": [
    "### Flatten Layer\n",
    "Implement the `flatten` function to change the dimension of `x_tensor` from a 4-D tensor to a 2-D tensor.  The output should be the shape (*Batch Size*, *Flattened Image Size*). Shortcut option: you can use classes from the [TensorFlow Layers](https://www.tensorflow.org/api_docs/python/tf/layers) or [TensorFlow Layers (contrib)](https://www.tensorflow.org/api_guides/python/contrib.layers) packages for this layer. For more of a challenge, only use other TensorFlow packages."
   ]
  },
  {
   "cell_type": "code",
   "execution_count": 16,
   "metadata": {},
   "outputs": [
    {
     "name": "stdout",
     "output_type": "stream",
     "text": [
      "Tests Passed\n"
     ]
    }
   ],
   "source": [
    "def flatten(x_tensor):\n",
    "    \"\"\"\n",
    "    Flatten x_tensor to (Batch Size, Flattened Image Size)\n",
    "    : x_tensor: A tensor of size (Batch Size, ...), where ... are the image dimensions.\n",
    "    : return: A tensor of size (Batch Size, Flattened Image Size).\n",
    "    \"\"\"\n",
    "    # TODO: Implement Function\n",
    "    return tf.contrib.layers.flatten(x_tensor)\n",
    "\n",
    "\n",
    "\"\"\"\n",
    "DON'T MODIFY ANYTHING IN THIS CELL THAT IS BELOW THIS LINE\n",
    "\"\"\"\n",
    "tests.test_flatten(flatten)"
   ]
  },
  {
   "cell_type": "markdown",
   "metadata": {},
   "source": [
    "### Fully-Connected Layer\n",
    "Implement the `fully_conn` function to apply a fully connected layer to `x_tensor` with the shape (*Batch Size*, *num_outputs*). Shortcut option: you can use classes from the [TensorFlow Layers](https://www.tensorflow.org/api_docs/python/tf/layers) or [TensorFlow Layers (contrib)](https://www.tensorflow.org/api_guides/python/contrib.layers) packages for this layer. For more of a challenge, only use other TensorFlow packages."
   ]
  },
  {
   "cell_type": "code",
   "execution_count": 17,
   "metadata": {},
   "outputs": [
    {
     "name": "stdout",
     "output_type": "stream",
     "text": [
      "Tests Passed\n"
     ]
    }
   ],
   "source": [
    "def fully_conn(x_tensor, num_outputs):\n",
    "    \"\"\"\n",
    "    Apply a fully connected layer to x_tensor using weight and bias\n",
    "    : x_tensor: A 2-D tensor where the first dimension is batch size.\n",
    "    : num_outputs: The number of output that the new tensor should be.\n",
    "    : return: A 2-D tensor where the second dimension is num_outputs.\n",
    "    \"\"\"\n",
    "    # TODO: Implement Function\n",
    "    shape_input=x_tensor.get_shape().as_list()\n",
    "    weights=tf.Variable(tf.truncated_normal([shape_input[1],num_outputs], 0,0.01))\n",
    "    biases = tf.Variable(tf.zeros(num_outputs))\n",
    "    \n",
    "    x_tensor = tf.add(tf.matmul(x_tensor, weights), biases)\n",
    "    return tf.nn.relu(x_tensor)\n",
    "\n",
    "\n",
    "\"\"\"\n",
    "DON'T MODIFY ANYTHING IN THIS CELL THAT IS BELOW THIS LINE\n",
    "\"\"\"\n",
    "tests.test_fully_conn(fully_conn)"
   ]
  },
  {
   "cell_type": "markdown",
   "metadata": {},
   "source": [
    "### Output Layer\n",
    "Implement the `output` function to apply a fully connected layer to `x_tensor` with the shape (*Batch Size*, *num_outputs*). Shortcut option: you can use classes from the [TensorFlow Layers](https://www.tensorflow.org/api_docs/python/tf/layers) or [TensorFlow Layers (contrib)](https://www.tensorflow.org/api_guides/python/contrib.layers) packages for this layer. For more of a challenge, only use other TensorFlow packages.\n",
    "\n",
    "**Note:** Activation, softmax, or cross entropy should **not** be applied to this."
   ]
  },
  {
   "cell_type": "code",
   "execution_count": 18,
   "metadata": {},
   "outputs": [
    {
     "name": "stdout",
     "output_type": "stream",
     "text": [
      "Tests Passed\n"
     ]
    }
   ],
   "source": [
    "def output(x_tensor, num_outputs):\n",
    "    \"\"\"\n",
    "    Apply a output layer to x_tensor using weight and bias\n",
    "    : x_tensor: A 2-D tensor where the first dimension is batch size.\n",
    "    : num_outputs: The number of output that the new tensor should be.\n",
    "    : return: A 2-D tensor where the second dimension is num_outputs.\n",
    "    \"\"\"\n",
    "    # TODO: Implement Function\n",
    "    shape_input=x_tensor.get_shape().as_list()\n",
    "    weights=tf.Variable(tf.truncated_normal([shape_input[1],num_outputs], 0,0.01))\n",
    "    biases = tf.Variable(tf.zeros(num_outputs))\n",
    "    \n",
    "    x_tensor = tf.add(tf.matmul(x_tensor, weights), biases)\n",
    "    return x_tensor\n",
    "\n",
    "\n",
    "\"\"\"\n",
    "DON'T MODIFY ANYTHING IN THIS CELL THAT IS BELOW THIS LINE\n",
    "\"\"\"\n",
    "tests.test_output(output)"
   ]
  },
  {
   "cell_type": "markdown",
   "metadata": {},
   "source": [
    "### Create Convolutional Model\n",
    "Implement the function `conv_net` to create a convolutional neural network model. The function takes in a batch of images, `x`, and outputs logits.  Use the layers you created above to create this model:\n",
    "\n",
    "* Apply 1, 2, or 3 Convolution and Max Pool layers\n",
    "* Apply a Flatten Layer\n",
    "* Apply 1, 2, or 3 Fully Connected Layers\n",
    "* Apply an Output Layer\n",
    "* Return the output\n",
    "* Apply [TensorFlow's Dropout](https://www.tensorflow.org/api_docs/python/tf/nn/dropout) to one or more layers in the model using `keep_prob`. "
   ]
  },
  {
   "cell_type": "code",
   "execution_count": 19,
   "metadata": {},
   "outputs": [
    {
     "name": "stdout",
     "output_type": "stream",
     "text": [
      "Tensor(\"keep_prob:0\", dtype=float32)\n",
      "3\n",
      "64\n",
      "[4, 4, 3, 64]\n",
      "3\n",
      "64\n",
      "[4, 4, 3, 64]\n",
      "Neural Network Built!\n"
     ]
    }
   ],
   "source": [
    "def conv_net(x, keep_prob):\n",
    "    \"\"\"\n",
    "    Create a convolutional neural network model\n",
    "    : x: Placeholder tensor that holds image data.\n",
    "    : keep_prob: Placeholder tensor that hold dropout keep probability.\n",
    "    : return: Tensor that represents logits\n",
    "    \"\"\"\n",
    "    conv_num_outputs = 64\n",
    "    conv_ksize = (4,4)\n",
    "    conv_strides = (2,2)\n",
    "    pool_ksize = (4,4)\n",
    "    pool_strides = (1,1)\n",
    "    num_outputs = 10\n",
    "    num_outputs_fully = 64\n",
    "    \n",
    "    # TODO: Apply 1, 2, or 3 Convolution and Max Pool layers\n",
    "    #    Play around with different number of outputs, kernel size and stride\n",
    "    # Function Definition from Above:\n",
    "    #    conv2d_maxpool(x_tensor, conv_num_outputs, conv_ksize, conv_strides, pool_ksize, pool_strides)\n",
    "    \n",
    "    x_tensor = conv2d_maxpool(x, conv_num_outputs, conv_ksize, conv_strides, pool_ksize, pool_strides)\n",
    "\n",
    "    # TODO: Apply a Flatten Layer\n",
    "    # Function Definition from Above:\n",
    "    #   flatten(x_tensor)\n",
    "    x_tensor = flatten(x_tensor)\n",
    "    \n",
    "\n",
    "    # TODO: Apply 1, 2, or 3 Fully Connected Layers\n",
    "    #    Play around with different number of outputs\n",
    "    # Function Definition from Above:\n",
    "    #   fully_conn(x_tensor, num_outputs)\n",
    "    x_tensor = fully_conn(x_tensor, num_outputs_fully)\n",
    "    x_tensor = tf.nn.dropout(x_tensor, keep_prob)\n",
    "\n",
    "    \n",
    "    \n",
    "    # TODO: Apply an Output Layer\n",
    "    #    Set this to the number of classes\n",
    "    # Function Definition from Above:\n",
    "    #   output(x_tensor, num_outputs)\n",
    "    \n",
    "    \n",
    "    # TODO: return output\n",
    "    x = output(x_tensor, num_outputs)\n",
    "    return x\n",
    "\n",
    "\n",
    "\"\"\"\n",
    "DON'T MODIFY ANYTHING IN THIS CELL THAT IS BELOW THIS LINE\n",
    "\"\"\"\n",
    "\n",
    "##############################\n",
    "## Build the Neural Network ##\n",
    "##############################\n",
    "\n",
    "# Remove previous weights, bias, inputs, etc..\n",
    "tf.reset_default_graph()\n",
    "\n",
    "# Inputs\n",
    "x = neural_net_image_input((32, 32, 3))\n",
    "y = neural_net_label_input(10)\n",
    "keep_prob = neural_net_keep_prob_input()\n",
    "\n",
    "# Model\n",
    "logits = conv_net(x, keep_prob)\n",
    "\n",
    "# Name logits Tensor, so that is can be loaded from disk after training\n",
    "logits = tf.identity(logits, name='logits')\n",
    "\n",
    "# Loss and Optimizer\n",
    "cost = tf.reduce_mean(tf.nn.softmax_cross_entropy_with_logits(logits=logits, labels=y))\n",
    "optimizer = tf.train.AdamOptimizer().minimize(cost)\n",
    "\n",
    "# Accuracy\n",
    "correct_pred = tf.equal(tf.argmax(logits, 1), tf.argmax(y, 1))\n",
    "accuracy = tf.reduce_mean(tf.cast(correct_pred, tf.float32), name='accuracy')\n",
    "\n",
    "tests.test_conv_net(conv_net)"
   ]
  },
  {
   "cell_type": "markdown",
   "metadata": {},
   "source": [
    "## Train the Neural Network\n",
    "### Single Optimization\n",
    "Implement the function `train_neural_network` to do a single optimization.  The optimization should use `optimizer` to optimize in `session` with a `feed_dict` of the following:\n",
    "* `x` for image input\n",
    "* `y` for labels\n",
    "* `keep_prob` for keep probability for dropout\n",
    "\n",
    "This function will be called for each batch, so `tf.global_variables_initializer()` has already been called.\n",
    "\n",
    "Note: Nothing needs to be returned. This function is only optimizing the neural network."
   ]
  },
  {
   "cell_type": "code",
   "execution_count": 20,
   "metadata": {},
   "outputs": [
    {
     "name": "stdout",
     "output_type": "stream",
     "text": [
      "Tests Passed\n"
     ]
    }
   ],
   "source": [
    "def train_neural_network(session, optimizer, keep_probability, feature_batch, label_batch):\n",
    "    \"\"\"\n",
    "    Optimize the session on a batch of images and labels\n",
    "    : session: Current TensorFlow session\n",
    "    : optimizer: TensorFlow optimizer function\n",
    "    : keep_probability: keep probability\n",
    "    : feature_batch: Batch of Numpy image data\n",
    "    : label_batch: Batch of Numpy label data\n",
    "    \"\"\"\n",
    "    # TODO: Implement Function\n",
    "    session.run(optimizer, feed_dict={x:feature_batch, y:label_batch, keep_prob:keep_probability})\n",
    "    pass\n",
    "\n",
    "\n",
    "\"\"\"\n",
    "DON'T MODIFY ANYTHING IN THIS CELL THAT IS BELOW THIS LINE\n",
    "\"\"\"\n",
    "tests.test_train_nn(train_neural_network)"
   ]
  },
  {
   "cell_type": "markdown",
   "metadata": {},
   "source": [
    "### Show Stats\n",
    "Implement the function `print_stats` to print loss and validation accuracy.  Use the global variables `valid_features` and `valid_labels` to calculate validation accuracy.  Use a keep probability of `1.0` to calculate the loss and validation accuracy."
   ]
  },
  {
   "cell_type": "code",
   "execution_count": 22,
   "metadata": {
    "collapsed": true
   },
   "outputs": [],
   "source": [
    "def print_stats(session, feature_batch, label_batch, cost, accuracy):\n",
    "    \"\"\"\n",
    "    Print information about loss and validation accuracy\n",
    "    : session: Current TensorFlow session\n",
    "    : feature_batch: Batch of Numpy image data\n",
    "    : label_batch: Batch of Numpy label data\n",
    "    : cost: TensorFlow cost function\n",
    "    : accuracy: TensorFlow accuracy function\n",
    "    \"\"\"\n",
    "    # TODO: Implement Function\n",
    "    loss = session.run(cost, feed_dict={ x: feature_batch,y: label_batch,keep_prob: 1.0})\n",
    "    valid_acc = session.run(accuracy, feed_dict={x: valid_features,y: valid_labels,keep_prob: 1.0})\n",
    "    print('Loss: {:>10.4f} Validation Accuracy: {:.6f}'.format(loss,valid_acc))\n",
    "    pass"
   ]
  },
  {
   "cell_type": "markdown",
   "metadata": {},
   "source": [
    "### Hyperparameters\n",
    "Tune the following parameters:\n",
    "* Set `epochs` to the number of iterations until the network stops learning or start overfitting\n",
    "* Set `batch_size` to the highest number that your machine has memory for.  Most people set them to common sizes of memory:\n",
    " * 64\n",
    " * 128\n",
    " * 256\n",
    " * ...\n",
    "* Set `keep_probability` to the probability of keeping a node using dropout"
   ]
  },
  {
   "cell_type": "code",
   "execution_count": 23,
   "metadata": {
    "collapsed": true
   },
   "outputs": [],
   "source": [
    "# TODO: Tune Parameters\n",
    "epochs = 60\n",
    "batch_size = 1024\n",
    "keep_probability = 0.8"
   ]
  },
  {
   "cell_type": "markdown",
   "metadata": {},
   "source": [
    "### Train on a Single CIFAR-10 Batch\n",
    "Instead of training the neural network on all the CIFAR-10 batches of data, let's use a single batch. This should save time while you iterate on the model to get a better accuracy.  Once the final validation accuracy is 50% or greater, run the model on all the data in the next section."
   ]
  },
  {
   "cell_type": "code",
   "execution_count": 24,
   "metadata": {},
   "outputs": [
    {
     "name": "stdout",
     "output_type": "stream",
     "text": [
      "Checking the Training on a Single Batch...\n",
      "Epoch  1, CIFAR-10 Batch 1:  Loss:     2.2209 Validation Accuracy: 0.189600\n",
      "Epoch  2, CIFAR-10 Batch 1:  Loss:     2.0255 Validation Accuracy: 0.294800\n",
      "Epoch  3, CIFAR-10 Batch 1:  Loss:     1.8994 Validation Accuracy: 0.315000\n",
      "Epoch  4, CIFAR-10 Batch 1:  Loss:     1.8328 Validation Accuracy: 0.356200\n",
      "Epoch  5, CIFAR-10 Batch 1:  Loss:     1.7425 Validation Accuracy: 0.380800\n",
      "Epoch  6, CIFAR-10 Batch 1:  Loss:     1.6996 Validation Accuracy: 0.392200\n",
      "Epoch  7, CIFAR-10 Batch 1:  Loss:     1.6252 Validation Accuracy: 0.409200\n",
      "Epoch  8, CIFAR-10 Batch 1:  Loss:     1.5859 Validation Accuracy: 0.427200\n",
      "Epoch  9, CIFAR-10 Batch 1:  Loss:     1.5532 Validation Accuracy: 0.428000\n",
      "Epoch 10, CIFAR-10 Batch 1:  Loss:     1.5195 Validation Accuracy: 0.443600\n",
      "Epoch 11, CIFAR-10 Batch 1:  Loss:     1.4753 Validation Accuracy: 0.457400\n",
      "Epoch 12, CIFAR-10 Batch 1:  Loss:     1.4414 Validation Accuracy: 0.460200\n",
      "Epoch 13, CIFAR-10 Batch 1:  Loss:     1.4274 Validation Accuracy: 0.474200\n",
      "Epoch 14, CIFAR-10 Batch 1:  Loss:     1.3939 Validation Accuracy: 0.485400\n",
      "Epoch 15, CIFAR-10 Batch 1:  Loss:     1.3817 Validation Accuracy: 0.493600\n",
      "Epoch 16, CIFAR-10 Batch 1:  Loss:     1.3510 Validation Accuracy: 0.497000\n",
      "Epoch 17, CIFAR-10 Batch 1:  Loss:     1.3221 Validation Accuracy: 0.507800\n",
      "Epoch 18, CIFAR-10 Batch 1:  Loss:     1.3052 Validation Accuracy: 0.509600\n",
      "Epoch 19, CIFAR-10 Batch 1:  Loss:     1.2964 Validation Accuracy: 0.510600\n",
      "Epoch 20, CIFAR-10 Batch 1:  Loss:     1.2691 Validation Accuracy: 0.526400\n",
      "Epoch 21, CIFAR-10 Batch 1:  Loss:     1.2529 Validation Accuracy: 0.524000\n",
      "Epoch 22, CIFAR-10 Batch 1:  Loss:     1.2376 Validation Accuracy: 0.532600\n",
      "Epoch 23, CIFAR-10 Batch 1:  Loss:     1.2313 Validation Accuracy: 0.532400\n",
      "Epoch 24, CIFAR-10 Batch 1:  Loss:     1.2176 Validation Accuracy: 0.532200\n",
      "Epoch 25, CIFAR-10 Batch 1:  Loss:     1.1829 Validation Accuracy: 0.533800\n",
      "Epoch 26, CIFAR-10 Batch 1:  Loss:     1.1796 Validation Accuracy: 0.539000\n",
      "Epoch 27, CIFAR-10 Batch 1:  Loss:     1.1691 Validation Accuracy: 0.533400\n",
      "Epoch 28, CIFAR-10 Batch 1:  Loss:     1.1560 Validation Accuracy: 0.537800\n",
      "Epoch 29, CIFAR-10 Batch 1:  Loss:     1.1438 Validation Accuracy: 0.536400\n",
      "Epoch 30, CIFAR-10 Batch 1:  Loss:     1.1183 Validation Accuracy: 0.549000\n",
      "Epoch 31, CIFAR-10 Batch 1:  Loss:     1.1137 Validation Accuracy: 0.550200\n",
      "Epoch 32, CIFAR-10 Batch 1:  Loss:     1.0942 Validation Accuracy: 0.551200\n",
      "Epoch 33, CIFAR-10 Batch 1:  Loss:     1.0849 Validation Accuracy: 0.550400\n",
      "Epoch 34, CIFAR-10 Batch 1:  Loss:     1.0680 Validation Accuracy: 0.552600\n",
      "Epoch 35, CIFAR-10 Batch 1:  Loss:     1.0647 Validation Accuracy: 0.556000\n",
      "Epoch 36, CIFAR-10 Batch 1:  Loss:     1.0417 Validation Accuracy: 0.561000\n",
      "Epoch 37, CIFAR-10 Batch 1:  Loss:     1.0269 Validation Accuracy: 0.561600\n",
      "Epoch 38, CIFAR-10 Batch 1:  Loss:     1.0261 Validation Accuracy: 0.562800\n",
      "Epoch 39, CIFAR-10 Batch 1:  Loss:     1.0139 Validation Accuracy: 0.567400\n",
      "Epoch 40, CIFAR-10 Batch 1:  Loss:     1.0122 Validation Accuracy: 0.562600\n",
      "Epoch 41, CIFAR-10 Batch 1:  Loss:     1.0003 Validation Accuracy: 0.563800\n",
      "Epoch 42, CIFAR-10 Batch 1:  Loss:     0.9819 Validation Accuracy: 0.568600\n",
      "Epoch 43, CIFAR-10 Batch 1:  Loss:     0.9708 Validation Accuracy: 0.571400\n",
      "Epoch 44, CIFAR-10 Batch 1:  Loss:     0.9589 Validation Accuracy: 0.570000\n",
      "Epoch 45, CIFAR-10 Batch 1:  Loss:     0.9415 Validation Accuracy: 0.578000\n",
      "Epoch 46, CIFAR-10 Batch 1:  Loss:     0.9354 Validation Accuracy: 0.579600\n",
      "Epoch 47, CIFAR-10 Batch 1:  Loss:     0.9263 Validation Accuracy: 0.578400\n",
      "Epoch 48, CIFAR-10 Batch 1:  Loss:     0.9097 Validation Accuracy: 0.585600\n",
      "Epoch 49, CIFAR-10 Batch 1:  Loss:     0.8980 Validation Accuracy: 0.579600\n",
      "Epoch 50, CIFAR-10 Batch 1:  Loss:     0.9006 Validation Accuracy: 0.578400\n",
      "Epoch 51, CIFAR-10 Batch 1:  Loss:     0.8854 Validation Accuracy: 0.583400\n",
      "Epoch 52, CIFAR-10 Batch 1:  Loss:     0.8714 Validation Accuracy: 0.590800\n",
      "Epoch 53, CIFAR-10 Batch 1:  Loss:     0.8594 Validation Accuracy: 0.586200\n",
      "Epoch 54, CIFAR-10 Batch 1:  Loss:     0.8534 Validation Accuracy: 0.588200\n",
      "Epoch 55, CIFAR-10 Batch 1:  Loss:     0.8507 Validation Accuracy: 0.591800\n",
      "Epoch 56, CIFAR-10 Batch 1:  Loss:     0.8614 Validation Accuracy: 0.584800\n",
      "Epoch 57, CIFAR-10 Batch 1:  Loss:     0.8601 Validation Accuracy: 0.577000\n",
      "Epoch 58, CIFAR-10 Batch 1:  Loss:     0.8300 Validation Accuracy: 0.581800\n",
      "Epoch 59, CIFAR-10 Batch 1:  Loss:     0.8039 Validation Accuracy: 0.592000\n",
      "Epoch 60, CIFAR-10 Batch 1:  Loss:     0.7925 Validation Accuracy: 0.598600\n"
     ]
    }
   ],
   "source": [
    "\"\"\"\n",
    "DON'T MODIFY ANYTHING IN THIS CELL\n",
    "\"\"\"\n",
    "print('Checking the Training on a Single Batch...')\n",
    "with tf.Session() as sess:\n",
    "    # Initializing the variables\n",
    "    sess.run(tf.global_variables_initializer())\n",
    "    \n",
    "    # Training cycle\n",
    "    for epoch in range(epochs):\n",
    "        batch_i = 1\n",
    "        for batch_features, batch_labels in helper.load_preprocess_training_batch(batch_i, batch_size):\n",
    "            train_neural_network(sess, optimizer, keep_probability, batch_features, batch_labels)\n",
    "        print('Epoch {:>2}, CIFAR-10 Batch {}:  '.format(epoch + 1, batch_i), end='')\n",
    "        print_stats(sess, batch_features, batch_labels, cost, accuracy)"
   ]
  },
  {
   "cell_type": "markdown",
   "metadata": {},
   "source": [
    "### Fully Train the Model\n",
    "Now that you got a good accuracy with a single CIFAR-10 batch, try it with all five batches."
   ]
  },
  {
   "cell_type": "code",
   "execution_count": 25,
   "metadata": {},
   "outputs": [
    {
     "name": "stdout",
     "output_type": "stream",
     "text": [
      "Training...\n",
      "Epoch  1, CIFAR-10 Batch 1:  Loss:     2.2313 Validation Accuracy: 0.212600\n",
      "Epoch  1, CIFAR-10 Batch 2:  Loss:     2.0442 Validation Accuracy: 0.284800\n",
      "Epoch  1, CIFAR-10 Batch 3:  Loss:     1.9417 Validation Accuracy: 0.306400\n",
      "Epoch  1, CIFAR-10 Batch 4:  Loss:     1.8599 Validation Accuracy: 0.321000\n",
      "Epoch  1, CIFAR-10 Batch 5:  Loss:     1.8097 Validation Accuracy: 0.347000\n",
      "Epoch  2, CIFAR-10 Batch 1:  Loss:     1.7755 Validation Accuracy: 0.358200\n",
      "Epoch  2, CIFAR-10 Batch 2:  Loss:     1.7082 Validation Accuracy: 0.402600\n",
      "Epoch  2, CIFAR-10 Batch 3:  Loss:     1.6336 Validation Accuracy: 0.417200\n",
      "Epoch  2, CIFAR-10 Batch 4:  Loss:     1.6080 Validation Accuracy: 0.420600\n",
      "Epoch  2, CIFAR-10 Batch 5:  Loss:     1.6101 Validation Accuracy: 0.434600\n",
      "Epoch  3, CIFAR-10 Batch 1:  Loss:     1.5709 Validation Accuracy: 0.440200\n",
      "Epoch  3, CIFAR-10 Batch 2:  Loss:     1.5397 Validation Accuracy: 0.452200\n",
      "Epoch  3, CIFAR-10 Batch 3:  Loss:     1.4837 Validation Accuracy: 0.458400\n",
      "Epoch  3, CIFAR-10 Batch 4:  Loss:     1.4743 Validation Accuracy: 0.457600\n",
      "Epoch  3, CIFAR-10 Batch 5:  Loss:     1.5119 Validation Accuracy: 0.463800\n",
      "Epoch  4, CIFAR-10 Batch 1:  Loss:     1.4622 Validation Accuracy: 0.473200\n",
      "Epoch  4, CIFAR-10 Batch 2:  Loss:     1.4600 Validation Accuracy: 0.488000\n",
      "Epoch  4, CIFAR-10 Batch 3:  Loss:     1.3921 Validation Accuracy: 0.480000\n",
      "Epoch  4, CIFAR-10 Batch 4:  Loss:     1.4168 Validation Accuracy: 0.483800\n",
      "Epoch  4, CIFAR-10 Batch 5:  Loss:     1.4206 Validation Accuracy: 0.490800\n",
      "Epoch  5, CIFAR-10 Batch 1:  Loss:     1.3993 Validation Accuracy: 0.499000\n",
      "Epoch  5, CIFAR-10 Batch 2:  Loss:     1.3873 Validation Accuracy: 0.507200\n",
      "Epoch  5, CIFAR-10 Batch 3:  Loss:     1.3244 Validation Accuracy: 0.506400\n",
      "Epoch  5, CIFAR-10 Batch 4:  Loss:     1.3487 Validation Accuracy: 0.499600\n",
      "Epoch  5, CIFAR-10 Batch 5:  Loss:     1.3580 Validation Accuracy: 0.512000\n",
      "Epoch  6, CIFAR-10 Batch 1:  Loss:     1.3415 Validation Accuracy: 0.519000\n",
      "Epoch  6, CIFAR-10 Batch 2:  Loss:     1.3321 Validation Accuracy: 0.521400\n",
      "Epoch  6, CIFAR-10 Batch 3:  Loss:     1.2723 Validation Accuracy: 0.529600\n",
      "Epoch  6, CIFAR-10 Batch 4:  Loss:     1.2915 Validation Accuracy: 0.521200\n",
      "Epoch  6, CIFAR-10 Batch 5:  Loss:     1.3044 Validation Accuracy: 0.531200\n",
      "Epoch  7, CIFAR-10 Batch 1:  Loss:     1.2974 Validation Accuracy: 0.533800\n",
      "Epoch  7, CIFAR-10 Batch 2:  Loss:     1.3111 Validation Accuracy: 0.536400\n",
      "Epoch  7, CIFAR-10 Batch 3:  Loss:     1.2324 Validation Accuracy: 0.543600\n",
      "Epoch  7, CIFAR-10 Batch 4:  Loss:     1.2504 Validation Accuracy: 0.539400\n",
      "Epoch  7, CIFAR-10 Batch 5:  Loss:     1.2542 Validation Accuracy: 0.541600\n",
      "Epoch  8, CIFAR-10 Batch 1:  Loss:     1.2625 Validation Accuracy: 0.549200\n",
      "Epoch  8, CIFAR-10 Batch 2:  Loss:     1.2431 Validation Accuracy: 0.557200\n",
      "Epoch  8, CIFAR-10 Batch 3:  Loss:     1.1923 Validation Accuracy: 0.554400\n",
      "Epoch  8, CIFAR-10 Batch 4:  Loss:     1.2205 Validation Accuracy: 0.545600\n",
      "Epoch  8, CIFAR-10 Batch 5:  Loss:     1.2148 Validation Accuracy: 0.557200\n",
      "Epoch  9, CIFAR-10 Batch 1:  Loss:     1.2321 Validation Accuracy: 0.559000\n",
      "Epoch  9, CIFAR-10 Batch 2:  Loss:     1.2175 Validation Accuracy: 0.559200\n",
      "Epoch  9, CIFAR-10 Batch 3:  Loss:     1.1654 Validation Accuracy: 0.558800\n",
      "Epoch  9, CIFAR-10 Batch 4:  Loss:     1.1923 Validation Accuracy: 0.552200\n",
      "Epoch  9, CIFAR-10 Batch 5:  Loss:     1.1756 Validation Accuracy: 0.565600\n",
      "Epoch 10, CIFAR-10 Batch 1:  Loss:     1.2073 Validation Accuracy: 0.563600\n",
      "Epoch 10, CIFAR-10 Batch 2:  Loss:     1.1902 Validation Accuracy: 0.568800\n",
      "Epoch 10, CIFAR-10 Batch 3:  Loss:     1.1617 Validation Accuracy: 0.561200\n",
      "Epoch 10, CIFAR-10 Batch 4:  Loss:     1.1668 Validation Accuracy: 0.564200\n",
      "Epoch 10, CIFAR-10 Batch 5:  Loss:     1.1665 Validation Accuracy: 0.568000\n",
      "Epoch 11, CIFAR-10 Batch 1:  Loss:     1.2019 Validation Accuracy: 0.568200\n",
      "Epoch 11, CIFAR-10 Batch 2:  Loss:     1.1541 Validation Accuracy: 0.579400\n",
      "Epoch 11, CIFAR-10 Batch 3:  Loss:     1.1353 Validation Accuracy: 0.566200\n",
      "Epoch 11, CIFAR-10 Batch 4:  Loss:     1.1391 Validation Accuracy: 0.581200\n",
      "Epoch 11, CIFAR-10 Batch 5:  Loss:     1.1300 Validation Accuracy: 0.580600\n",
      "Epoch 12, CIFAR-10 Batch 1:  Loss:     1.1723 Validation Accuracy: 0.580600\n",
      "Epoch 12, CIFAR-10 Batch 2:  Loss:     1.1254 Validation Accuracy: 0.589400\n",
      "Epoch 12, CIFAR-10 Batch 3:  Loss:     1.1283 Validation Accuracy: 0.577000\n",
      "Epoch 12, CIFAR-10 Batch 4:  Loss:     1.1204 Validation Accuracy: 0.577400\n",
      "Epoch 12, CIFAR-10 Batch 5:  Loss:     1.1022 Validation Accuracy: 0.583200\n",
      "Epoch 13, CIFAR-10 Batch 1:  Loss:     1.1448 Validation Accuracy: 0.587400\n",
      "Epoch 13, CIFAR-10 Batch 2:  Loss:     1.0985 Validation Accuracy: 0.594400\n",
      "Epoch 13, CIFAR-10 Batch 3:  Loss:     1.0908 Validation Accuracy: 0.588800\n",
      "Epoch 13, CIFAR-10 Batch 4:  Loss:     1.1045 Validation Accuracy: 0.584000\n",
      "Epoch 13, CIFAR-10 Batch 5:  Loss:     1.1006 Validation Accuracy: 0.583200\n",
      "Epoch 14, CIFAR-10 Batch 1:  Loss:     1.1242 Validation Accuracy: 0.586600\n",
      "Epoch 14, CIFAR-10 Batch 2:  Loss:     1.0820 Validation Accuracy: 0.595400\n",
      "Epoch 14, CIFAR-10 Batch 3:  Loss:     1.0845 Validation Accuracy: 0.586400\n",
      "Epoch 14, CIFAR-10 Batch 4:  Loss:     1.0723 Validation Accuracy: 0.584400\n",
      "Epoch 14, CIFAR-10 Batch 5:  Loss:     1.0654 Validation Accuracy: 0.590800\n",
      "Epoch 15, CIFAR-10 Batch 1:  Loss:     1.1174 Validation Accuracy: 0.599800\n",
      "Epoch 15, CIFAR-10 Batch 2:  Loss:     1.0771 Validation Accuracy: 0.599600\n",
      "Epoch 15, CIFAR-10 Batch 3:  Loss:     1.0818 Validation Accuracy: 0.586200\n",
      "Epoch 15, CIFAR-10 Batch 4:  Loss:     1.0610 Validation Accuracy: 0.589800\n",
      "Epoch 15, CIFAR-10 Batch 5:  Loss:     1.0335 Validation Accuracy: 0.603200\n",
      "Epoch 16, CIFAR-10 Batch 1:  Loss:     1.0927 Validation Accuracy: 0.599600\n",
      "Epoch 16, CIFAR-10 Batch 2:  Loss:     1.0490 Validation Accuracy: 0.604400\n",
      "Epoch 16, CIFAR-10 Batch 3:  Loss:     1.0472 Validation Accuracy: 0.593400\n",
      "Epoch 16, CIFAR-10 Batch 4:  Loss:     1.0403 Validation Accuracy: 0.599800\n",
      "Epoch 16, CIFAR-10 Batch 5:  Loss:     1.0152 Validation Accuracy: 0.603600\n",
      "Epoch 17, CIFAR-10 Batch 1:  Loss:     1.0723 Validation Accuracy: 0.604400\n",
      "Epoch 17, CIFAR-10 Batch 2:  Loss:     1.0404 Validation Accuracy: 0.608200\n",
      "Epoch 17, CIFAR-10 Batch 3:  Loss:     1.0225 Validation Accuracy: 0.603400\n",
      "Epoch 17, CIFAR-10 Batch 4:  Loss:     1.0263 Validation Accuracy: 0.605600\n",
      "Epoch 17, CIFAR-10 Batch 5:  Loss:     1.0002 Validation Accuracy: 0.603200\n",
      "Epoch 18, CIFAR-10 Batch 1:  Loss:     1.0454 Validation Accuracy: 0.610200\n",
      "Epoch 18, CIFAR-10 Batch 2:  Loss:     1.0219 Validation Accuracy: 0.612000\n",
      "Epoch 18, CIFAR-10 Batch 3:  Loss:     1.0095 Validation Accuracy: 0.608000\n",
      "Epoch 18, CIFAR-10 Batch 4:  Loss:     1.0044 Validation Accuracy: 0.611400\n",
      "Epoch 18, CIFAR-10 Batch 5:  Loss:     0.9890 Validation Accuracy: 0.602400\n",
      "Epoch 19, CIFAR-10 Batch 1:  Loss:     1.0346 Validation Accuracy: 0.618400\n",
      "Epoch 19, CIFAR-10 Batch 2:  Loss:     1.0069 Validation Accuracy: 0.615800\n",
      "Epoch 19, CIFAR-10 Batch 3:  Loss:     0.9892 Validation Accuracy: 0.614600\n",
      "Epoch 19, CIFAR-10 Batch 4:  Loss:     0.9945 Validation Accuracy: 0.611200\n",
      "Epoch 19, CIFAR-10 Batch 5:  Loss:     0.9602 Validation Accuracy: 0.613000\n",
      "Epoch 20, CIFAR-10 Batch 1:  Loss:     1.0263 Validation Accuracy: 0.618000\n",
      "Epoch 20, CIFAR-10 Batch 2:  Loss:     0.9879 Validation Accuracy: 0.624600\n",
      "Epoch 20, CIFAR-10 Batch 3:  Loss:     0.9829 Validation Accuracy: 0.612800\n",
      "Epoch 20, CIFAR-10 Batch 4:  Loss:     0.9725 Validation Accuracy: 0.616200\n",
      "Epoch 20, CIFAR-10 Batch 5:  Loss:     0.9506 Validation Accuracy: 0.618400\n",
      "Epoch 21, CIFAR-10 Batch 1:  Loss:     1.0248 Validation Accuracy: 0.620600\n",
      "Epoch 21, CIFAR-10 Batch 2:  Loss:     0.9725 Validation Accuracy: 0.621600\n",
      "Epoch 21, CIFAR-10 Batch 3:  Loss:     0.9766 Validation Accuracy: 0.609200\n",
      "Epoch 21, CIFAR-10 Batch 4:  Loss:     0.9629 Validation Accuracy: 0.620400\n",
      "Epoch 21, CIFAR-10 Batch 5:  Loss:     0.9325 Validation Accuracy: 0.625600\n",
      "Epoch 22, CIFAR-10 Batch 1:  Loss:     1.0015 Validation Accuracy: 0.622400\n",
      "Epoch 22, CIFAR-10 Batch 2:  Loss:     0.9627 Validation Accuracy: 0.629000\n",
      "Epoch 22, CIFAR-10 Batch 3:  Loss:     0.9519 Validation Accuracy: 0.618000\n"
     ]
    },
    {
     "name": "stdout",
     "output_type": "stream",
     "text": [
      "Epoch 22, CIFAR-10 Batch 4:  Loss:     0.9431 Validation Accuracy: 0.626200\n",
      "Epoch 22, CIFAR-10 Batch 5:  Loss:     0.9227 Validation Accuracy: 0.628000\n",
      "Epoch 23, CIFAR-10 Batch 1:  Loss:     1.0122 Validation Accuracy: 0.621200\n",
      "Epoch 23, CIFAR-10 Batch 2:  Loss:     0.9597 Validation Accuracy: 0.622800\n",
      "Epoch 23, CIFAR-10 Batch 3:  Loss:     0.9462 Validation Accuracy: 0.618800\n",
      "Epoch 23, CIFAR-10 Batch 4:  Loss:     0.9283 Validation Accuracy: 0.631200\n",
      "Epoch 23, CIFAR-10 Batch 5:  Loss:     0.9101 Validation Accuracy: 0.634400\n",
      "Epoch 24, CIFAR-10 Batch 1:  Loss:     0.9970 Validation Accuracy: 0.621000\n",
      "Epoch 24, CIFAR-10 Batch 2:  Loss:     0.9344 Validation Accuracy: 0.636400\n",
      "Epoch 24, CIFAR-10 Batch 3:  Loss:     0.9291 Validation Accuracy: 0.623400\n",
      "Epoch 24, CIFAR-10 Batch 4:  Loss:     0.9143 Validation Accuracy: 0.634800\n",
      "Epoch 24, CIFAR-10 Batch 5:  Loss:     0.9218 Validation Accuracy: 0.624600\n",
      "Epoch 25, CIFAR-10 Batch 1:  Loss:     0.9716 Validation Accuracy: 0.633600\n",
      "Epoch 25, CIFAR-10 Batch 2:  Loss:     0.9240 Validation Accuracy: 0.638400\n",
      "Epoch 25, CIFAR-10 Batch 3:  Loss:     0.9193 Validation Accuracy: 0.624200\n",
      "Epoch 25, CIFAR-10 Batch 4:  Loss:     0.9026 Validation Accuracy: 0.638400\n",
      "Epoch 25, CIFAR-10 Batch 5:  Loss:     0.8990 Validation Accuracy: 0.633800\n",
      "Epoch 26, CIFAR-10 Batch 1:  Loss:     0.9609 Validation Accuracy: 0.636200\n",
      "Epoch 26, CIFAR-10 Batch 2:  Loss:     0.9249 Validation Accuracy: 0.632200\n",
      "Epoch 26, CIFAR-10 Batch 3:  Loss:     0.9175 Validation Accuracy: 0.624400\n",
      "Epoch 26, CIFAR-10 Batch 4:  Loss:     0.9104 Validation Accuracy: 0.636000\n",
      "Epoch 26, CIFAR-10 Batch 5:  Loss:     0.8810 Validation Accuracy: 0.637400\n",
      "Epoch 27, CIFAR-10 Batch 1:  Loss:     0.9420 Validation Accuracy: 0.640000\n",
      "Epoch 27, CIFAR-10 Batch 2:  Loss:     0.9009 Validation Accuracy: 0.638600\n",
      "Epoch 27, CIFAR-10 Batch 3:  Loss:     0.9006 Validation Accuracy: 0.629600\n",
      "Epoch 27, CIFAR-10 Batch 4:  Loss:     0.9017 Validation Accuracy: 0.633200\n",
      "Epoch 27, CIFAR-10 Batch 5:  Loss:     0.8728 Validation Accuracy: 0.639200\n",
      "Epoch 28, CIFAR-10 Batch 1:  Loss:     0.9513 Validation Accuracy: 0.633600\n",
      "Epoch 28, CIFAR-10 Batch 2:  Loss:     0.9034 Validation Accuracy: 0.636600\n",
      "Epoch 28, CIFAR-10 Batch 3:  Loss:     0.8961 Validation Accuracy: 0.629800\n",
      "Epoch 28, CIFAR-10 Batch 4:  Loss:     0.9031 Validation Accuracy: 0.630200\n",
      "Epoch 28, CIFAR-10 Batch 5:  Loss:     0.8633 Validation Accuracy: 0.638600\n",
      "Epoch 29, CIFAR-10 Batch 1:  Loss:     0.9578 Validation Accuracy: 0.629600\n",
      "Epoch 29, CIFAR-10 Batch 2:  Loss:     0.8821 Validation Accuracy: 0.643600\n",
      "Epoch 29, CIFAR-10 Batch 3:  Loss:     0.8678 Validation Accuracy: 0.639200\n",
      "Epoch 29, CIFAR-10 Batch 4:  Loss:     0.8836 Validation Accuracy: 0.640200\n",
      "Epoch 29, CIFAR-10 Batch 5:  Loss:     0.8452 Validation Accuracy: 0.644400\n",
      "Epoch 30, CIFAR-10 Batch 1:  Loss:     0.9568 Validation Accuracy: 0.632000\n",
      "Epoch 30, CIFAR-10 Batch 2:  Loss:     0.8735 Validation Accuracy: 0.645800\n",
      "Epoch 30, CIFAR-10 Batch 3:  Loss:     0.8583 Validation Accuracy: 0.633200\n",
      "Epoch 30, CIFAR-10 Batch 4:  Loss:     0.8792 Validation Accuracy: 0.643200\n",
      "Epoch 30, CIFAR-10 Batch 5:  Loss:     0.8470 Validation Accuracy: 0.646800\n",
      "Epoch 31, CIFAR-10 Batch 1:  Loss:     0.9117 Validation Accuracy: 0.644000\n",
      "Epoch 31, CIFAR-10 Batch 2:  Loss:     0.8652 Validation Accuracy: 0.645400\n",
      "Epoch 31, CIFAR-10 Batch 3:  Loss:     0.8527 Validation Accuracy: 0.641200\n",
      "Epoch 31, CIFAR-10 Batch 4:  Loss:     0.8695 Validation Accuracy: 0.638600\n",
      "Epoch 31, CIFAR-10 Batch 5:  Loss:     0.8256 Validation Accuracy: 0.648400\n",
      "Epoch 32, CIFAR-10 Batch 1:  Loss:     0.8934 Validation Accuracy: 0.643000\n",
      "Epoch 32, CIFAR-10 Batch 2:  Loss:     0.8489 Validation Accuracy: 0.647600\n",
      "Epoch 32, CIFAR-10 Batch 3:  Loss:     0.8436 Validation Accuracy: 0.643200\n",
      "Epoch 32, CIFAR-10 Batch 4:  Loss:     0.8489 Validation Accuracy: 0.646800\n",
      "Epoch 32, CIFAR-10 Batch 5:  Loss:     0.8199 Validation Accuracy: 0.648800\n",
      "Epoch 33, CIFAR-10 Batch 1:  Loss:     0.8872 Validation Accuracy: 0.647800\n",
      "Epoch 33, CIFAR-10 Batch 2:  Loss:     0.8405 Validation Accuracy: 0.653600\n",
      "Epoch 33, CIFAR-10 Batch 3:  Loss:     0.8468 Validation Accuracy: 0.637000\n",
      "Epoch 33, CIFAR-10 Batch 4:  Loss:     0.8539 Validation Accuracy: 0.642400\n",
      "Epoch 33, CIFAR-10 Batch 5:  Loss:     0.8195 Validation Accuracy: 0.647800\n",
      "Epoch 34, CIFAR-10 Batch 1:  Loss:     0.8965 Validation Accuracy: 0.644400\n",
      "Epoch 34, CIFAR-10 Batch 2:  Loss:     0.8281 Validation Accuracy: 0.651400\n",
      "Epoch 34, CIFAR-10 Batch 3:  Loss:     0.8291 Validation Accuracy: 0.649400\n",
      "Epoch 34, CIFAR-10 Batch 4:  Loss:     0.8477 Validation Accuracy: 0.639200\n",
      "Epoch 34, CIFAR-10 Batch 5:  Loss:     0.8277 Validation Accuracy: 0.643000\n",
      "Epoch 35, CIFAR-10 Batch 1:  Loss:     0.8801 Validation Accuracy: 0.648400\n",
      "Epoch 35, CIFAR-10 Batch 2:  Loss:     0.8102 Validation Accuracy: 0.652600\n",
      "Epoch 35, CIFAR-10 Batch 3:  Loss:     0.8069 Validation Accuracy: 0.649200\n",
      "Epoch 35, CIFAR-10 Batch 4:  Loss:     0.8376 Validation Accuracy: 0.646800\n",
      "Epoch 35, CIFAR-10 Batch 5:  Loss:     0.8057 Validation Accuracy: 0.652400\n",
      "Epoch 36, CIFAR-10 Batch 1:  Loss:     0.8805 Validation Accuracy: 0.646600\n",
      "Epoch 36, CIFAR-10 Batch 2:  Loss:     0.8039 Validation Accuracy: 0.653600\n",
      "Epoch 36, CIFAR-10 Batch 3:  Loss:     0.8073 Validation Accuracy: 0.655400\n",
      "Epoch 36, CIFAR-10 Batch 4:  Loss:     0.8269 Validation Accuracy: 0.648800\n",
      "Epoch 36, CIFAR-10 Batch 5:  Loss:     0.7909 Validation Accuracy: 0.658200\n",
      "Epoch 37, CIFAR-10 Batch 1:  Loss:     0.8628 Validation Accuracy: 0.651200\n",
      "Epoch 37, CIFAR-10 Batch 2:  Loss:     0.8017 Validation Accuracy: 0.649200\n",
      "Epoch 37, CIFAR-10 Batch 3:  Loss:     0.8055 Validation Accuracy: 0.652800\n",
      "Epoch 37, CIFAR-10 Batch 4:  Loss:     0.8287 Validation Accuracy: 0.647200\n",
      "Epoch 37, CIFAR-10 Batch 5:  Loss:     0.8021 Validation Accuracy: 0.651600\n",
      "Epoch 38, CIFAR-10 Batch 1:  Loss:     0.8757 Validation Accuracy: 0.651200\n",
      "Epoch 38, CIFAR-10 Batch 2:  Loss:     0.8062 Validation Accuracy: 0.649800\n",
      "Epoch 38, CIFAR-10 Batch 3:  Loss:     0.7966 Validation Accuracy: 0.651600\n",
      "Epoch 38, CIFAR-10 Batch 4:  Loss:     0.8101 Validation Accuracy: 0.647000\n",
      "Epoch 38, CIFAR-10 Batch 5:  Loss:     0.7886 Validation Accuracy: 0.651400\n",
      "Epoch 39, CIFAR-10 Batch 1:  Loss:     0.8580 Validation Accuracy: 0.653400\n",
      "Epoch 39, CIFAR-10 Batch 2:  Loss:     0.7839 Validation Accuracy: 0.659800\n",
      "Epoch 39, CIFAR-10 Batch 3:  Loss:     0.7913 Validation Accuracy: 0.651000\n",
      "Epoch 39, CIFAR-10 Batch 4:  Loss:     0.7952 Validation Accuracy: 0.652800\n",
      "Epoch 39, CIFAR-10 Batch 5:  Loss:     0.7760 Validation Accuracy: 0.652600\n",
      "Epoch 40, CIFAR-10 Batch 1:  Loss:     0.8507 Validation Accuracy: 0.645600\n",
      "Epoch 40, CIFAR-10 Batch 2:  Loss:     0.7715 Validation Accuracy: 0.657800\n",
      "Epoch 40, CIFAR-10 Batch 3:  Loss:     0.7832 Validation Accuracy: 0.655000\n",
      "Epoch 40, CIFAR-10 Batch 4:  Loss:     0.8115 Validation Accuracy: 0.641000\n",
      "Epoch 40, CIFAR-10 Batch 5:  Loss:     0.7732 Validation Accuracy: 0.654400\n",
      "Epoch 41, CIFAR-10 Batch 1:  Loss:     0.8354 Validation Accuracy: 0.653000\n",
      "Epoch 41, CIFAR-10 Batch 2:  Loss:     0.7746 Validation Accuracy: 0.658400\n",
      "Epoch 41, CIFAR-10 Batch 3:  Loss:     0.7709 Validation Accuracy: 0.657000\n",
      "Epoch 41, CIFAR-10 Batch 4:  Loss:     0.7901 Validation Accuracy: 0.651400\n",
      "Epoch 41, CIFAR-10 Batch 5:  Loss:     0.7557 Validation Accuracy: 0.660800\n",
      "Epoch 42, CIFAR-10 Batch 1:  Loss:     0.8234 Validation Accuracy: 0.648600\n",
      "Epoch 42, CIFAR-10 Batch 2:  Loss:     0.7618 Validation Accuracy: 0.659800\n",
      "Epoch 42, CIFAR-10 Batch 3:  Loss:     0.7632 Validation Accuracy: 0.656800\n",
      "Epoch 42, CIFAR-10 Batch 4:  Loss:     0.7945 Validation Accuracy: 0.649200\n",
      "Epoch 42, CIFAR-10 Batch 5:  Loss:     0.7496 Validation Accuracy: 0.663800\n",
      "Epoch 43, CIFAR-10 Batch 1:  Loss:     0.8153 Validation Accuracy: 0.656000\n",
      "Epoch 43, CIFAR-10 Batch 2:  Loss:     0.7457 Validation Accuracy: 0.661800\n",
      "Epoch 43, CIFAR-10 Batch 3:  Loss:     0.7638 Validation Accuracy: 0.659800\n",
      "Epoch 43, CIFAR-10 Batch 4:  Loss:     0.7833 Validation Accuracy: 0.650600\n",
      "Epoch 43, CIFAR-10 Batch 5:  Loss:     0.7486 Validation Accuracy: 0.660400\n",
      "Epoch 44, CIFAR-10 Batch 1:  Loss:     0.8134 Validation Accuracy: 0.653200\n"
     ]
    },
    {
     "name": "stdout",
     "output_type": "stream",
     "text": [
      "Epoch 44, CIFAR-10 Batch 2:  Loss:     0.7511 Validation Accuracy: 0.656800\n",
      "Epoch 44, CIFAR-10 Batch 3:  Loss:     0.7563 Validation Accuracy: 0.661800\n",
      "Epoch 44, CIFAR-10 Batch 4:  Loss:     0.7814 Validation Accuracy: 0.645800\n",
      "Epoch 44, CIFAR-10 Batch 5:  Loss:     0.7489 Validation Accuracy: 0.651200\n",
      "Epoch 45, CIFAR-10 Batch 1:  Loss:     0.8083 Validation Accuracy: 0.649200\n",
      "Epoch 45, CIFAR-10 Batch 2:  Loss:     0.7421 Validation Accuracy: 0.660600\n",
      "Epoch 45, CIFAR-10 Batch 3:  Loss:     0.7365 Validation Accuracy: 0.664600\n",
      "Epoch 45, CIFAR-10 Batch 4:  Loss:     0.7582 Validation Accuracy: 0.658400\n",
      "Epoch 45, CIFAR-10 Batch 5:  Loss:     0.7403 Validation Accuracy: 0.655000\n",
      "Epoch 46, CIFAR-10 Batch 1:  Loss:     0.8028 Validation Accuracy: 0.655400\n",
      "Epoch 46, CIFAR-10 Batch 2:  Loss:     0.7254 Validation Accuracy: 0.667200\n",
      "Epoch 46, CIFAR-10 Batch 3:  Loss:     0.7409 Validation Accuracy: 0.662200\n",
      "Epoch 46, CIFAR-10 Batch 4:  Loss:     0.7571 Validation Accuracy: 0.654000\n",
      "Epoch 46, CIFAR-10 Batch 5:  Loss:     0.7430 Validation Accuracy: 0.654000\n",
      "Epoch 47, CIFAR-10 Batch 1:  Loss:     0.7978 Validation Accuracy: 0.652000\n",
      "Epoch 47, CIFAR-10 Batch 2:  Loss:     0.7253 Validation Accuracy: 0.664400\n",
      "Epoch 47, CIFAR-10 Batch 3:  Loss:     0.7344 Validation Accuracy: 0.658000\n",
      "Epoch 47, CIFAR-10 Batch 4:  Loss:     0.7530 Validation Accuracy: 0.651800\n",
      "Epoch 47, CIFAR-10 Batch 5:  Loss:     0.7504 Validation Accuracy: 0.651400\n",
      "Epoch 48, CIFAR-10 Batch 1:  Loss:     0.7898 Validation Accuracy: 0.651200\n",
      "Epoch 48, CIFAR-10 Batch 2:  Loss:     0.7226 Validation Accuracy: 0.665200\n",
      "Epoch 48, CIFAR-10 Batch 3:  Loss:     0.7217 Validation Accuracy: 0.660200\n",
      "Epoch 48, CIFAR-10 Batch 4:  Loss:     0.7654 Validation Accuracy: 0.648200\n",
      "Epoch 48, CIFAR-10 Batch 5:  Loss:     0.7216 Validation Accuracy: 0.659400\n",
      "Epoch 49, CIFAR-10 Batch 1:  Loss:     0.7770 Validation Accuracy: 0.658400\n",
      "Epoch 49, CIFAR-10 Batch 2:  Loss:     0.7136 Validation Accuracy: 0.660200\n",
      "Epoch 49, CIFAR-10 Batch 3:  Loss:     0.6983 Validation Accuracy: 0.662000\n",
      "Epoch 49, CIFAR-10 Batch 4:  Loss:     0.7326 Validation Accuracy: 0.653600\n",
      "Epoch 49, CIFAR-10 Batch 5:  Loss:     0.7024 Validation Accuracy: 0.661200\n",
      "Epoch 50, CIFAR-10 Batch 1:  Loss:     0.7776 Validation Accuracy: 0.651800\n",
      "Epoch 50, CIFAR-10 Batch 2:  Loss:     0.7170 Validation Accuracy: 0.661600\n",
      "Epoch 50, CIFAR-10 Batch 3:  Loss:     0.6918 Validation Accuracy: 0.663600\n",
      "Epoch 50, CIFAR-10 Batch 4:  Loss:     0.7317 Validation Accuracy: 0.654600\n",
      "Epoch 50, CIFAR-10 Batch 5:  Loss:     0.7051 Validation Accuracy: 0.655400\n",
      "Epoch 51, CIFAR-10 Batch 1:  Loss:     0.7697 Validation Accuracy: 0.654600\n",
      "Epoch 51, CIFAR-10 Batch 2:  Loss:     0.6982 Validation Accuracy: 0.667200\n",
      "Epoch 51, CIFAR-10 Batch 3:  Loss:     0.6933 Validation Accuracy: 0.668400\n",
      "Epoch 51, CIFAR-10 Batch 4:  Loss:     0.7186 Validation Accuracy: 0.656000\n",
      "Epoch 51, CIFAR-10 Batch 5:  Loss:     0.7050 Validation Accuracy: 0.656200\n",
      "Epoch 52, CIFAR-10 Batch 1:  Loss:     0.7467 Validation Accuracy: 0.664200\n",
      "Epoch 52, CIFAR-10 Batch 2:  Loss:     0.6988 Validation Accuracy: 0.658000\n",
      "Epoch 52, CIFAR-10 Batch 3:  Loss:     0.7030 Validation Accuracy: 0.660600\n",
      "Epoch 52, CIFAR-10 Batch 4:  Loss:     0.7469 Validation Accuracy: 0.644600\n",
      "Epoch 52, CIFAR-10 Batch 5:  Loss:     0.7059 Validation Accuracy: 0.656400\n",
      "Epoch 53, CIFAR-10 Batch 1:  Loss:     0.7514 Validation Accuracy: 0.657000\n",
      "Epoch 53, CIFAR-10 Batch 2:  Loss:     0.7082 Validation Accuracy: 0.667400\n",
      "Epoch 53, CIFAR-10 Batch 3:  Loss:     0.6925 Validation Accuracy: 0.663800\n",
      "Epoch 53, CIFAR-10 Batch 4:  Loss:     0.7149 Validation Accuracy: 0.653600\n",
      "Epoch 53, CIFAR-10 Batch 5:  Loss:     0.6707 Validation Accuracy: 0.663000\n",
      "Epoch 54, CIFAR-10 Batch 1:  Loss:     0.7269 Validation Accuracy: 0.665600\n",
      "Epoch 54, CIFAR-10 Batch 2:  Loss:     0.6807 Validation Accuracy: 0.665600\n",
      "Epoch 54, CIFAR-10 Batch 3:  Loss:     0.6803 Validation Accuracy: 0.670600\n",
      "Epoch 54, CIFAR-10 Batch 4:  Loss:     0.7198 Validation Accuracy: 0.652200\n",
      "Epoch 54, CIFAR-10 Batch 5:  Loss:     0.6905 Validation Accuracy: 0.661200\n",
      "Epoch 55, CIFAR-10 Batch 1:  Loss:     0.7299 Validation Accuracy: 0.666000\n",
      "Epoch 55, CIFAR-10 Batch 2:  Loss:     0.6897 Validation Accuracy: 0.663600\n",
      "Epoch 55, CIFAR-10 Batch 3:  Loss:     0.7032 Validation Accuracy: 0.659600\n",
      "Epoch 55, CIFAR-10 Batch 4:  Loss:     0.6988 Validation Accuracy: 0.664600\n",
      "Epoch 55, CIFAR-10 Batch 5:  Loss:     0.6925 Validation Accuracy: 0.657200\n",
      "Epoch 56, CIFAR-10 Batch 1:  Loss:     0.7482 Validation Accuracy: 0.659600\n",
      "Epoch 56, CIFAR-10 Batch 2:  Loss:     0.6917 Validation Accuracy: 0.660600\n",
      "Epoch 56, CIFAR-10 Batch 3:  Loss:     0.6903 Validation Accuracy: 0.661400\n",
      "Epoch 56, CIFAR-10 Batch 4:  Loss:     0.6989 Validation Accuracy: 0.659000\n",
      "Epoch 56, CIFAR-10 Batch 5:  Loss:     0.6937 Validation Accuracy: 0.657600\n",
      "Epoch 57, CIFAR-10 Batch 1:  Loss:     0.7172 Validation Accuracy: 0.663600\n",
      "Epoch 57, CIFAR-10 Batch 2:  Loss:     0.6750 Validation Accuracy: 0.669000\n",
      "Epoch 57, CIFAR-10 Batch 3:  Loss:     0.6696 Validation Accuracy: 0.663200\n",
      "Epoch 57, CIFAR-10 Batch 4:  Loss:     0.6984 Validation Accuracy: 0.656200\n",
      "Epoch 57, CIFAR-10 Batch 5:  Loss:     0.6681 Validation Accuracy: 0.662400\n",
      "Epoch 58, CIFAR-10 Batch 1:  Loss:     0.6979 Validation Accuracy: 0.670400\n",
      "Epoch 58, CIFAR-10 Batch 2:  Loss:     0.6689 Validation Accuracy: 0.661800\n",
      "Epoch 58, CIFAR-10 Batch 3:  Loss:     0.6512 Validation Accuracy: 0.664400\n",
      "Epoch 58, CIFAR-10 Batch 4:  Loss:     0.6937 Validation Accuracy: 0.649600\n",
      "Epoch 58, CIFAR-10 Batch 5:  Loss:     0.6618 Validation Accuracy: 0.655600\n",
      "Epoch 59, CIFAR-10 Batch 1:  Loss:     0.6982 Validation Accuracy: 0.670200\n",
      "Epoch 59, CIFAR-10 Batch 2:  Loss:     0.6761 Validation Accuracy: 0.657200\n",
      "Epoch 59, CIFAR-10 Batch 3:  Loss:     0.6659 Validation Accuracy: 0.661800\n",
      "Epoch 59, CIFAR-10 Batch 4:  Loss:     0.6762 Validation Accuracy: 0.662600\n",
      "Epoch 59, CIFAR-10 Batch 5:  Loss:     0.6817 Validation Accuracy: 0.653200\n",
      "Epoch 60, CIFAR-10 Batch 1:  Loss:     0.7021 Validation Accuracy: 0.667000\n",
      "Epoch 60, CIFAR-10 Batch 2:  Loss:     0.6514 Validation Accuracy: 0.664800\n",
      "Epoch 60, CIFAR-10 Batch 3:  Loss:     0.6700 Validation Accuracy: 0.660200\n",
      "Epoch 60, CIFAR-10 Batch 4:  Loss:     0.6878 Validation Accuracy: 0.653200\n",
      "Epoch 60, CIFAR-10 Batch 5:  Loss:     0.6747 Validation Accuracy: 0.656000\n"
     ]
    }
   ],
   "source": [
    "\"\"\"\n",
    "DON'T MODIFY ANYTHING IN THIS CELL\n",
    "\"\"\"\n",
    "save_model_path = './image_classification'\n",
    "\n",
    "print('Training...')\n",
    "with tf.Session() as sess:\n",
    "    # Initializing the variables\n",
    "    sess.run(tf.global_variables_initializer())\n",
    "    \n",
    "    # Training cycle\n",
    "    for epoch in range(epochs):\n",
    "        # Loop over all batches\n",
    "        n_batches = 5\n",
    "        for batch_i in range(1, n_batches + 1):\n",
    "            for batch_features, batch_labels in helper.load_preprocess_training_batch(batch_i, batch_size):\n",
    "                train_neural_network(sess, optimizer, keep_probability, batch_features, batch_labels)\n",
    "            print('Epoch {:>2}, CIFAR-10 Batch {}:  '.format(epoch + 1, batch_i), end='')\n",
    "            print_stats(sess, batch_features, batch_labels, cost, accuracy)\n",
    "            \n",
    "    # Save Model\n",
    "    saver = tf.train.Saver()\n",
    "    save_path = saver.save(sess, save_model_path)"
   ]
  },
  {
   "cell_type": "markdown",
   "metadata": {},
   "source": [
    "# Checkpoint\n",
    "The model has been saved to disk.\n",
    "## Test Model\n",
    "Test your model against the test dataset.  This will be your final accuracy. You should have an accuracy greater than 50%. If you don't, keep tweaking the model architecture and parameters."
   ]
  },
  {
   "cell_type": "code",
   "execution_count": 26,
   "metadata": {},
   "outputs": [
    {
     "name": "stdout",
     "output_type": "stream",
     "text": [
      "INFO:tensorflow:Restoring parameters from ./image_classification\n",
      "Testing Accuracy: 0.6529436349868775\n",
      "\n"
     ]
    },
    {
     "data": {
      "image/png": "[encoded data removed]",
      "text/plain": [
       "<matplotlib.figure.Figure at 0x7fb727f621d0>"
      ]
     },
     "metadata": {
      "image/png": {
       "height": 319,
       "width": 355
      }
     },
     "output_type": "display_data"
    }
   ],
   "source": [
    "\"\"\"\n",
    "DON'T MODIFY ANYTHING IN THIS CELL\n",
    "\"\"\"\n",
    "%matplotlib inline\n",
    "%config InlineBackend.figure_format = 'retina'\n",
    "\n",
    "import tensorflow as tf\n",
    "import pickle\n",
    "import helper\n",
    "import random\n",
    "\n",
    "# Set batch size if not already set\n",
    "try:\n",
    "    if batch_size:\n",
    "        pass\n",
    "except NameError:\n",
    "    batch_size = 64\n",
    "\n",
    "save_model_path = './image_classification'\n",
    "n_samples = 4\n",
    "top_n_predictions = 3\n",
    "\n",
    "def test_model():\n",
    "    \"\"\"\n",
    "    Test the saved model against the test dataset\n",
    "    \"\"\"\n",
    "\n",
    "    test_features, test_labels = pickle.load(open('preprocess_training.p', mode='rb'))\n",
    "    loaded_graph = tf.Graph()\n",
    "\n",
    "    with tf.Session(graph=loaded_graph) as sess:\n",
    "        # Load model\n",
    "        loader = tf.train.import_meta_graph(save_model_path + '.meta')\n",
    "        loader.restore(sess, save_model_path)\n",
    "\n",
    "        # Get Tensors from loaded model\n",
    "        loaded_x = loaded_graph.get_tensor_by_name('x:0')\n",
    "        loaded_y = loaded_graph.get_tensor_by_name('y:0')\n",
    "        loaded_keep_prob = loaded_graph.get_tensor_by_name('keep_prob:0')\n",
    "        loaded_logits = loaded_graph.get_tensor_by_name('logits:0')\n",
    "        loaded_acc = loaded_graph.get_tensor_by_name('accuracy:0')\n",
    "        \n",
    "        # Get accuracy in batches for memory limitations\n",
    "        test_batch_acc_total = 0\n",
    "        test_batch_count = 0\n",
    "        \n",
    "        for train_feature_batch, train_label_batch in helper.batch_features_labels(test_features, test_labels, batch_size):\n",
    "            test_batch_acc_total += sess.run(\n",
    "                loaded_acc,\n",
    "                feed_dict={loaded_x: train_feature_batch, loaded_y: train_label_batch, loaded_keep_prob: 1.0})\n",
    "            test_batch_count += 1\n",
    "\n",
    "        print('Testing Accuracy: {}\\n'.format(test_batch_acc_total/test_batch_count))\n",
    "\n",
    "        # Print Random Samples\n",
    "        random_test_features, random_test_labels = tuple(zip(*random.sample(list(zip(test_features, test_labels)), n_samples)))\n",
    "        random_test_predictions = sess.run(\n",
    "            tf.nn.top_k(tf.nn.softmax(loaded_logits), top_n_predictions),\n",
    "            feed_dict={loaded_x: random_test_features, loaded_y: random_test_labels, loaded_keep_prob: 1.0})\n",
    "        helper.display_image_predictions(random_test_features, random_test_labels, random_test_predictions)\n",
    "\n",
    "\n",
    "test_model()"
   ]
  },
  {
   "cell_type": "markdown",
   "metadata": {},
   "source": [
    "## Why 50-70% Accuracy?\n",
    "You might be wondering why you can't get an accuracy any higher. First things first, 50% isn't bad for a simple CNN.  Pure guessing would get you 10% accuracy. However, you might notice people are getting scores [well above 70%](http://rodrigob.github.io/are_we_there_yet/build/classification_datasets_results.html#43494641522d3130).  That's because we haven't taught you all there is to know about neural networks. We still need to cover a few more techniques.\n",
    "## Submitting This Project\n",
    "When submitting this project, make sure to run all the cells before saving the notebook.  Save the notebook file as \"dlnd_image_classification.ipynb\" and save it as a HTML file under \"File\" -> \"Download as\".  Include the \"helper.py\" and \"problem_unittests.py\" files in your submission."
   ]
  }
 ],
 "metadata": {
  "kernelspec": {
   "display_name": "Python 3",
   "language": "python",
   "name": "python3"
  },
  "language_info": {
   "codemirror_mode": {
    "name": "ipython",
    "version": 3
   },
   "file_extension": ".py",
   "mimetype": "text/x-python",
   "name": "python",
   "nbconvert_exporter": "python",
   "pygments_lexer": "ipython3",
   "version": "3.5.3"
  }
 },
 "nbformat": 4,
 "nbformat_minor": 1
}
